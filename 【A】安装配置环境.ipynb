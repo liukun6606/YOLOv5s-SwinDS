{
 "cells": [
  {
   "cell_type": "code",
   "execution_count": 3,
   "id": "83c98888-79c0-4f4c-8e64-b9cc65ac797e",
   "metadata": {},
   "outputs": [
    {
     "name": "stdout",
     "output_type": "stream",
     "text": [
      "Looking in indexes: https://pypi.tuna.tsinghua.edu.cn/simple\n",
      "Requirement already satisfied: gitpython in d:\\deeplearning\\miniconda\\envs\\d2l\\lib\\site-packages (from -r requirements.txt (line 5)) (3.1.27)\n",
      "Requirement already satisfied: ipython in d:\\deeplearning\\miniconda\\envs\\d2l\\lib\\site-packages (from -r requirements.txt (line 6)) (8.4.0)\n",
      "Requirement already satisfied: matplotlib>=3.2.2 in d:\\deeplearning\\miniconda\\envs\\d2l\\lib\\site-packages (from -r requirements.txt (line 7)) (3.5.1)\n",
      "Requirement already satisfied: numpy>=1.18.5 in d:\\deeplearning\\miniconda\\envs\\d2l\\lib\\site-packages (from -r requirements.txt (line 8)) (1.22.4)\n",
      "Requirement already satisfied: opencv-python>=4.1.1 in d:\\deeplearning\\miniconda\\envs\\d2l\\lib\\site-packages (from -r requirements.txt (line 9)) (4.6.0.66)\n",
      "Requirement already satisfied: Pillow>=7.1.2 in d:\\deeplearning\\miniconda\\envs\\d2l\\lib\\site-packages (from -r requirements.txt (line 10)) (9.2.0)\n",
      "Requirement already satisfied: psutil in d:\\deeplearning\\miniconda\\envs\\d2l\\lib\\site-packages (from -r requirements.txt (line 11)) (5.9.1)\n",
      "Requirement already satisfied: PyYAML>=5.3.1 in d:\\deeplearning\\miniconda\\envs\\d2l\\lib\\site-packages (from -r requirements.txt (line 12)) (6.0)\n",
      "Requirement already satisfied: requests>=2.23.0 in d:\\deeplearning\\miniconda\\envs\\d2l\\lib\\site-packages (from -r requirements.txt (line 13)) (2.28.1)\n",
      "Requirement already satisfied: scipy>=1.4.1 in d:\\deeplearning\\miniconda\\envs\\d2l\\lib\\site-packages (from -r requirements.txt (line 14)) (1.9.0)\n",
      "Requirement already satisfied: thop>=0.1.1 in d:\\deeplearning\\miniconda\\envs\\d2l\\lib\\site-packages (from -r requirements.txt (line 15)) (0.1.1.post2209072238)\n",
      "Requirement already satisfied: torch>=1.7.0 in d:\\deeplearning\\miniconda\\envs\\d2l\\lib\\site-packages (from -r requirements.txt (line 16)) (1.12.1)\n",
      "Requirement already satisfied: torchvision>=0.8.1 in d:\\deeplearning\\miniconda\\envs\\d2l\\lib\\site-packages (from -r requirements.txt (line 17)) (0.13.1)\n",
      "Requirement already satisfied: tqdm>=4.64.0 in d:\\deeplearning\\miniconda\\envs\\d2l\\lib\\site-packages (from -r requirements.txt (line 18)) (4.64.0)\n",
      "Requirement already satisfied: tensorboard>=2.4.1 in d:\\deeplearning\\miniconda\\envs\\d2l\\lib\\site-packages (from -r requirements.txt (line 22)) (2.11.0)\n",
      "Requirement already satisfied: pandas>=1.1.4 in d:\\deeplearning\\miniconda\\envs\\d2l\\lib\\site-packages (from -r requirements.txt (line 27)) (1.2.4)\n",
      "Requirement already satisfied: seaborn>=0.11.0 in d:\\deeplearning\\miniconda\\envs\\d2l\\lib\\site-packages (from -r requirements.txt (line 28)) (0.11.2)\n",
      "Requirement already satisfied: gitdb<5,>=4.0.1 in d:\\deeplearning\\miniconda\\envs\\d2l\\lib\\site-packages (from gitpython->-r requirements.txt (line 5)) (4.0.9)\n",
      "Requirement already satisfied: traitlets>=5 in d:\\deeplearning\\miniconda\\envs\\d2l\\lib\\site-packages (from ipython->-r requirements.txt (line 6)) (5.3.0)\n",
      "Requirement already satisfied: colorama in d:\\deeplearning\\miniconda\\envs\\d2l\\lib\\site-packages (from ipython->-r requirements.txt (line 6)) (0.4.5)\n",
      "Requirement already satisfied: decorator in d:\\deeplearning\\miniconda\\envs\\d2l\\lib\\site-packages (from ipython->-r requirements.txt (line 6)) (5.1.1)\n",
      "Requirement already satisfied: backcall in d:\\deeplearning\\miniconda\\envs\\d2l\\lib\\site-packages (from ipython->-r requirements.txt (line 6)) (0.2.0)\n",
      "Requirement already satisfied: prompt-toolkit!=3.0.0,!=3.0.1,<3.1.0,>=2.0.0 in d:\\deeplearning\\miniconda\\envs\\d2l\\lib\\site-packages (from ipython->-r requirements.txt (line 6)) (3.0.30)\n",
      "Requirement already satisfied: stack-data in d:\\deeplearning\\miniconda\\envs\\d2l\\lib\\site-packages (from ipython->-r requirements.txt (line 6)) (0.4.0)\n",
      "Requirement already satisfied: jedi>=0.16 in d:\\deeplearning\\miniconda\\envs\\d2l\\lib\\site-packages (from ipython->-r requirements.txt (line 6)) (0.18.1)\n",
      "Requirement already satisfied: setuptools>=18.5 in d:\\deeplearning\\miniconda\\envs\\d2l\\lib\\site-packages (from ipython->-r requirements.txt (line 6)) (65.3.0)\n",
      "Requirement already satisfied: pickleshare in d:\\deeplearning\\miniconda\\envs\\d2l\\lib\\site-packages (from ipython->-r requirements.txt (line 6)) (0.7.5)\n",
      "Requirement already satisfied: pygments>=2.4.0 in d:\\deeplearning\\miniconda\\envs\\d2l\\lib\\site-packages (from ipython->-r requirements.txt (line 6)) (2.13.0)\n",
      "Requirement already satisfied: matplotlib-inline in d:\\deeplearning\\miniconda\\envs\\d2l\\lib\\site-packages (from ipython->-r requirements.txt (line 6)) (0.1.6)\n",
      "Requirement already satisfied: kiwisolver>=1.0.1 in d:\\deeplearning\\miniconda\\envs\\d2l\\lib\\site-packages (from matplotlib>=3.2.2->-r requirements.txt (line 7)) (1.4.4)\n",
      "Requirement already satisfied: packaging>=20.0 in d:\\deeplearning\\miniconda\\envs\\d2l\\lib\\site-packages (from matplotlib>=3.2.2->-r requirements.txt (line 7)) (21.3)\n",
      "Requirement already satisfied: python-dateutil>=2.7 in d:\\deeplearning\\miniconda\\envs\\d2l\\lib\\site-packages (from matplotlib>=3.2.2->-r requirements.txt (line 7)) (2.8.2)\n",
      "Requirement already satisfied: fonttools>=4.22.0 in d:\\deeplearning\\miniconda\\envs\\d2l\\lib\\site-packages (from matplotlib>=3.2.2->-r requirements.txt (line 7)) (4.36.0)\n",
      "Requirement already satisfied: cycler>=0.10 in d:\\deeplearning\\miniconda\\envs\\d2l\\lib\\site-packages (from matplotlib>=3.2.2->-r requirements.txt (line 7)) (0.11.0)\n",
      "Requirement already satisfied: pyparsing>=2.2.1 in d:\\deeplearning\\miniconda\\envs\\d2l\\lib\\site-packages (from matplotlib>=3.2.2->-r requirements.txt (line 7)) (3.0.9)\n",
      "Requirement already satisfied: idna<4,>=2.5 in d:\\deeplearning\\miniconda\\envs\\d2l\\lib\\site-packages (from requests>=2.23.0->-r requirements.txt (line 13)) (3.3)\n",
      "Requirement already satisfied: urllib3<1.27,>=1.21.1 in d:\\deeplearning\\miniconda\\envs\\d2l\\lib\\site-packages (from requests>=2.23.0->-r requirements.txt (line 13)) (1.26.11)\n",
      "Requirement already satisfied: certifi>=2017.4.17 in d:\\deeplearning\\miniconda\\envs\\d2l\\lib\\site-packages (from requests>=2.23.0->-r requirements.txt (line 13)) (2022.6.15)\n",
      "Requirement already satisfied: charset-normalizer<3,>=2 in d:\\deeplearning\\miniconda\\envs\\d2l\\lib\\site-packages (from requests>=2.23.0->-r requirements.txt (line 13)) (2.1.0)\n",
      "Requirement already satisfied: typing_extensions in d:\\deeplearning\\miniconda\\envs\\d2l\\lib\\site-packages (from torch>=1.7.0->-r requirements.txt (line 16)) (4.3.0)\n",
      "Requirement already satisfied: google-auth<3,>=1.6.3 in d:\\deeplearning\\miniconda\\envs\\d2l\\lib\\site-packages (from tensorboard>=2.4.1->-r requirements.txt (line 22)) (2.15.0)\n",
      "Requirement already satisfied: protobuf<4,>=3.9.2 in d:\\deeplearning\\miniconda\\envs\\d2l\\lib\\site-packages (from tensorboard>=2.4.1->-r requirements.txt (line 22)) (3.20.1)\n",
      "Requirement already satisfied: tensorboard-plugin-wit>=1.6.0 in d:\\deeplearning\\miniconda\\envs\\d2l\\lib\\site-packages (from tensorboard>=2.4.1->-r requirements.txt (line 22)) (1.8.1)\n",
      "Requirement already satisfied: google-auth-oauthlib<0.5,>=0.4.1 in d:\\deeplearning\\miniconda\\envs\\d2l\\lib\\site-packages (from tensorboard>=2.4.1->-r requirements.txt (line 22)) (0.4.6)\n",
      "Requirement already satisfied: absl-py>=0.4 in d:\\deeplearning\\miniconda\\envs\\d2l\\lib\\site-packages (from tensorboard>=2.4.1->-r requirements.txt (line 22)) (1.3.0)\n",
      "Requirement already satisfied: grpcio>=1.24.3 in d:\\deeplearning\\miniconda\\envs\\d2l\\lib\\site-packages (from tensorboard>=2.4.1->-r requirements.txt (line 22)) (1.51.1)\n",
      "Requirement already satisfied: markdown>=2.6.8 in d:\\deeplearning\\miniconda\\envs\\d2l\\lib\\site-packages (from tensorboard>=2.4.1->-r requirements.txt (line 22)) (3.4.1)\n",
      "Requirement already satisfied: werkzeug>=1.0.1 in d:\\deeplearning\\miniconda\\envs\\d2l\\lib\\site-packages (from tensorboard>=2.4.1->-r requirements.txt (line 22)) (2.2.2)\n",
      "Requirement already satisfied: wheel>=0.26 in d:\\deeplearning\\miniconda\\envs\\d2l\\lib\\site-packages (from tensorboard>=2.4.1->-r requirements.txt (line 22)) (0.37.1)\n",
      "Requirement already satisfied: tensorboard-data-server<0.7.0,>=0.6.0 in d:\\deeplearning\\miniconda\\envs\\d2l\\lib\\site-packages (from tensorboard>=2.4.1->-r requirements.txt (line 22)) (0.6.1)\n",
      "Requirement already satisfied: pytz>=2017.3 in d:\\deeplearning\\miniconda\\envs\\d2l\\lib\\site-packages (from pandas>=1.1.4->-r requirements.txt (line 27)) (2022.2.1)\n",
      "Requirement already satisfied: smmap<6,>=3.0.1 in d:\\deeplearning\\miniconda\\envs\\d2l\\lib\\site-packages (from gitdb<5,>=4.0.1->gitpython->-r requirements.txt (line 5)) (5.0.0)\n",
      "Requirement already satisfied: cachetools<6.0,>=2.0.0 in d:\\deeplearning\\miniconda\\envs\\d2l\\lib\\site-packages (from google-auth<3,>=1.6.3->tensorboard>=2.4.1->-r requirements.txt (line 22)) (5.2.0)\n",
      "Requirement already satisfied: pyasn1-modules>=0.2.1 in d:\\deeplearning\\miniconda\\envs\\d2l\\lib\\site-packages (from google-auth<3,>=1.6.3->tensorboard>=2.4.1->-r requirements.txt (line 22)) (0.2.8)\n",
      "Requirement already satisfied: rsa<5,>=3.1.4 in d:\\deeplearning\\miniconda\\envs\\d2l\\lib\\site-packages (from google-auth<3,>=1.6.3->tensorboard>=2.4.1->-r requirements.txt (line 22)) (4.9)\n",
      "Requirement already satisfied: six>=1.9.0 in d:\\deeplearning\\miniconda\\envs\\d2l\\lib\\site-packages (from google-auth<3,>=1.6.3->tensorboard>=2.4.1->-r requirements.txt (line 22)) (1.16.0)\n",
      "Requirement already satisfied: requests-oauthlib>=0.7.0 in d:\\deeplearning\\miniconda\\envs\\d2l\\lib\\site-packages (from google-auth-oauthlib<0.5,>=0.4.1->tensorboard>=2.4.1->-r requirements.txt (line 22)) (1.3.1)\n",
      "Requirement already satisfied: parso<0.9.0,>=0.8.0 in d:\\deeplearning\\miniconda\\envs\\d2l\\lib\\site-packages (from jedi>=0.16->ipython->-r requirements.txt (line 6)) (0.8.3)\n",
      "Requirement already satisfied: importlib-metadata>=4.4 in d:\\deeplearning\\miniconda\\envs\\d2l\\lib\\site-packages (from markdown>=2.6.8->tensorboard>=2.4.1->-r requirements.txt (line 22)) (4.12.0)\n",
      "Requirement already satisfied: wcwidth in d:\\deeplearning\\miniconda\\envs\\d2l\\lib\\site-packages (from prompt-toolkit!=3.0.0,!=3.0.1,<3.1.0,>=2.0.0->ipython->-r requirements.txt (line 6)) (0.2.5)\n",
      "Requirement already satisfied: MarkupSafe>=2.1.1 in d:\\deeplearning\\miniconda\\envs\\d2l\\lib\\site-packages (from werkzeug>=1.0.1->tensorboard>=2.4.1->-r requirements.txt (line 22)) (2.1.1)\n",
      "Requirement already satisfied: asttokens in d:\\deeplearning\\miniconda\\envs\\d2l\\lib\\site-packages (from stack-data->ipython->-r requirements.txt (line 6)) (2.0.8)\n",
      "Requirement already satisfied: executing in d:\\deeplearning\\miniconda\\envs\\d2l\\lib\\site-packages (from stack-data->ipython->-r requirements.txt (line 6)) (0.10.0)\n",
      "Requirement already satisfied: pure-eval in d:\\deeplearning\\miniconda\\envs\\d2l\\lib\\site-packages (from stack-data->ipython->-r requirements.txt (line 6)) (0.2.2)\n",
      "Requirement already satisfied: zipp>=0.5 in d:\\deeplearning\\miniconda\\envs\\d2l\\lib\\site-packages (from importlib-metadata>=4.4->markdown>=2.6.8->tensorboard>=2.4.1->-r requirements.txt (line 22)) (3.8.1)\n",
      "Requirement already satisfied: pyasn1<0.5.0,>=0.4.6 in d:\\deeplearning\\miniconda\\envs\\d2l\\lib\\site-packages (from pyasn1-modules>=0.2.1->google-auth<3,>=1.6.3->tensorboard>=2.4.1->-r requirements.txt (line 22)) (0.4.8)\n",
      "Requirement already satisfied: oauthlib>=3.0.0 in d:\\deeplearning\\miniconda\\envs\\d2l\\lib\\site-packages (from requests-oauthlib>=0.7.0->google-auth-oauthlib<0.5,>=0.4.1->tensorboard>=2.4.1->-r requirements.txt (line 22)) (3.2.2)\n",
      "Note: you may need to restart the kernel to use updated packages.\n"
     ]
    },
    {
     "name": "stderr",
     "output_type": "stream",
     "text": [
      "WARNING: Ignore distutils configs in setup.cfg due to encoding errors.\n",
      "WARNING: Ignore distutils configs in setup.cfg due to encoding errors.\n"
     ]
    }
   ],
   "source": [
    "pip install -r requirements.txt"
   ]
  },
  {
   "cell_type": "code",
   "execution_count": null,
   "id": "f34f1f71",
   "metadata": {},
   "outputs": [],
   "source": []
  },
  {
   "cell_type": "code",
   "execution_count": 4,
   "id": "75ede97f",
   "metadata": {},
   "outputs": [
    {
     "data": {
      "text/plain": [
       "'1.12.1'"
      ]
     },
     "execution_count": 4,
     "metadata": {},
     "output_type": "execute_result"
    }
   ],
   "source": [
    "import torch\n",
    "torch.__version__"
   ]
  },
  {
   "cell_type": "code",
   "execution_count": 5,
   "id": "83c9d956-5824-4d84-84d4-86d1c7b1f89f",
   "metadata": {},
   "outputs": [
    {
     "name": "stdout",
     "output_type": "stream",
     "text": [
      "Looking in indexes: https://pypi.tuna.tsinghua.edu.cn/simple\n",
      "Requirement already satisfied: torchvision in d:\\deeplearning\\miniconda\\envs\\d2l\\lib\\site-packages (0.12.0)\n",
      "Requirement already satisfied: pillow!=8.3.*,>=5.3.0 in d:\\deeplearning\\miniconda\\envs\\d2l\\lib\\site-packages (from torchvision) (8.0.0)\n",
      "Requirement already satisfied: requests in d:\\deeplearning\\miniconda\\envs\\d2l\\lib\\site-packages (from torchvision) (2.28.1)\n",
      "Requirement already satisfied: typing-extensions in d:\\deeplearning\\miniconda\\envs\\d2l\\lib\\site-packages (from torchvision) (4.3.0)\n",
      "Requirement already satisfied: numpy in d:\\deeplearning\\miniconda\\envs\\d2l\\lib\\site-packages (from torchvision) (1.22.4)\n",
      "Requirement already satisfied: torch==1.11.0 in d:\\deeplearning\\miniconda\\envs\\d2l\\lib\\site-packages (from torchvision) (1.11.0)\n",
      "Requirement already satisfied: idna<4,>=2.5 in d:\\deeplearning\\miniconda\\envs\\d2l\\lib\\site-packages (from requests->torchvision) (3.3)\n",
      "Requirement already satisfied: charset-normalizer<3,>=2 in d:\\deeplearning\\miniconda\\envs\\d2l\\lib\\site-packages (from requests->torchvision) (2.1.0)\n",
      "Requirement already satisfied: certifi>=2017.4.17 in d:\\deeplearning\\miniconda\\envs\\d2l\\lib\\site-packages (from requests->torchvision) (2022.6.15)\n",
      "Requirement already satisfied: urllib3<1.27,>=1.21.1 in d:\\deeplearning\\miniconda\\envs\\d2l\\lib\\site-packages (from requests->torchvision) (1.26.11)\n",
      "Note: you may need to restart the kernel to use updated packages.\n"
     ]
    },
    {
     "name": "stderr",
     "output_type": "stream",
     "text": [
      "WARNING: Ignore distutils configs in setup.cfg due to encoding errors.\n",
      "WARNING: Ignoring invalid distribution -orch (d:\\deeplearning\\miniconda\\envs\\d2l\\lib\\site-packages)\n",
      "WARNING: Ignoring invalid distribution -orch (d:\\deeplearning\\miniconda\\envs\\d2l\\lib\\site-packages)\n",
      "WARNING: Ignoring invalid distribution -orch (d:\\deeplearning\\miniconda\\envs\\d2l\\lib\\site-packages)\n",
      "WARNING: Ignore distutils configs in setup.cfg due to encoding errors.\n",
      "WARNING: Ignoring invalid distribution -orch (d:\\deeplearning\\miniconda\\envs\\d2l\\lib\\site-packages)\n",
      "WARNING: Ignoring invalid distribution -orch (d:\\deeplearning\\miniconda\\envs\\d2l\\lib\\site-packages)\n",
      "WARNING: Ignoring invalid distribution -orch (d:\\deeplearning\\miniconda\\envs\\d2l\\lib\\site-packages)\n"
     ]
    }
   ],
   "source": [
    "pip install torchvision"
   ]
  },
  {
   "cell_type": "code",
   "execution_count": 1,
   "id": "59395e4f",
   "metadata": {},
   "outputs": [
    {
     "name": "stdout",
     "output_type": "stream",
     "text": [
      "   epoch  val_loss\n",
      "0      0  0.224650\n",
      "1      1  0.217400\n",
      "2      2  0.209234\n",
      "3      3  0.203859\n",
      "4      4  0.203084\n"
     ]
    }
   ],
   "source": [
    "import pandas as pd\n",
    "\n",
    "data = pd.read_csv('results.csv')\n",
    "print(data.head())\n"
   ]
  },
  {
   "cell_type": "code",
   "execution_count": 24,
   "id": "a8cc56aa",
   "metadata": {},
   "outputs": [
    {
     "data": {
      "image/png": "[encoded data removed]",
      "text/plain": [
       "<Figure size 576x360 with 1 Axes>"
      ]
     },
     "metadata": {
      "needs_background": "light"
     },
     "output_type": "display_data"
    }
   ],
   "source": [
    "import matplotlib.pyplot as plt\n",
    "import pandas as pd\n",
    "\n",
    "data = pd.read_csv('results.csv')\n",
    "\n",
    "fig = plt.figure(figsize=(8,5))\n",
    "\n",
    "ax = fig.add_subplot(111)\n",
    "\n",
    "ax.scatter(data[\"epoch\"], data[\"val_loss\"], alpha=0.8, c=\"blue\", s=10)\n",
    "\n",
    "plt.title(\"val_loss\", fontsize=15)\n",
    "plt.xlabel(\"epochs\", fontsize=15)\n",
    "plt.ylabel(\"value\", fontsize=15)\n",
    "\n",
    "plt.show()\n",
    "\n",
    "\n",
    "\n"
   ]
  }
 ],
 "metadata": {
  "kernelspec": {
   "display_name": "Python 3.9.12 ('d2l')",
   "language": "python",
   "name": "python3"
  },
  "language_info": {
   "codemirror_mode": {
    "name": "ipython",
    "version": 3
   },
   "file_extension": ".py",
   "mimetype": "text/x-python",
   "name": "python",
   "nbconvert_exporter": "python",
   "pygments_lexer": "ipython3",
   "version": "3.9.12"
  },
  "vscode": {
   "interpreter": {
    "hash": "54365cca827bc1a7a63ed21b5a3ddc423f2119752ff787125518c42eee711415"
   }
  }
 },
 "nbformat": 4,
 "nbformat_minor": 5
}
